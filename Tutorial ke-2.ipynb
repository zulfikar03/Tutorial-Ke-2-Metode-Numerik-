{
 "cells": [
  {
   "cell_type": "markdown",
   "id": "2e32ef74",
   "metadata": {},
   "source": [
    "# Tutorial Ke-2 Bahas Soal UTS 2022"
   ]
  },
  {
   "cell_type": "markdown",
   "id": "0d5cac19",
   "metadata": {},
   "source": [
    "1. Dalam proses perhitungan numerik, salah satu cara yang digunakan adalah\n",
    "   penderetan sampai suku/orde tertentu. Jelaskan kelebihan dan kekurangan jika:\n",
    "   \n",
    "   a. Penderetan dilakukan sampai orde rendah n < 5\n",
    "   \n",
    "   Jawab : kelebihan : Proses komputasinya ringan, bisa dilakukan sangat cepat\n",
    "   \n",
    "           Kekurangan : Hasil perhitungannya kurang akurat\n",
    "   \n",
    "   b. Penderetan dilakukan sampai orde tinggi n ≫ 5\n",
    "   \n",
    "   Jawab : Kelebihan : Hasil perhitungan akurat\n",
    "   \n",
    "           Kekurangan : Proses komputasinya lebih berat, memakan waktu yang lama"
   ]
  },
  {
   "cell_type": "markdown",
   "id": "f1ec3de7",
   "metadata": {},
   "source": [
    "2. Rumus deret bagi fungsi trigonometri (fungsi sin $x$) yang disampaikan pada\n",
    "   kuliah merupakan ungkapan deret yang diekspansikan di sekitar x = 0.\n",
    "   \n",
    "   a. Lakukan modifikasi pada source-code evaluasi deret fungsi sin $x$\n",
    "   tersebut saat diekspansikan di sekitar $x = n\\pi$, dengan $n$ adalah\n",
    "   sebarang bilangan bulat.\n",
    "   \n",
    "   b. Dari source-code tersebut, tentukan hasil komputasi bagi sin $5.1\\pi$."
   ]
  },
  {
   "cell_type": "markdown",
   "id": "16bcc87e",
   "metadata": {},
   "source": [
    "$$sin(x) = f(x) = \\sum_{m=0}^{\\infty} \\frac{(-1)^{m+n}}{(2m+1)!}(x-n\\pi)^{2m+1}$$"
   ]
  },
  {
   "cell_type": "code",
   "execution_count": 1,
   "id": "6e63bd7a",
   "metadata": {},
   "outputs": [],
   "source": [
    "#Jawaban a\n",
    "#x untuk mencari nilai sin-nya\n",
    "#n bil bulat\n",
    "#iteras buat jumlah iterasi\n",
    "from math import factorial\n",
    "import numpy as np\n",
    "\n",
    "def fsin(x,n,iterasi):\n",
    "    pi = np.pi\n",
    "    hasil = 0\n",
    "    for m in range(0, iterasi):\n",
    "        hasil += ((-1)**(m+n)/factorial(2*m+1))*(x-n*pi)**(2*m+1)\n",
    "    return hasil"
   ]
  },
  {
   "cell_type": "code",
   "execution_count": 2,
   "id": "f7e24ef3",
   "metadata": {},
   "outputs": [
    {
     "data": {
      "text/plain": [
       "-0.30901699424009194"
      ]
     },
     "execution_count": 2,
     "metadata": {},
     "output_type": "execute_result"
    }
   ],
   "source": [
    "fsin(5.1*np.pi,10,100)"
   ]
  },
  {
   "cell_type": "code",
   "execution_count": 3,
   "id": "8b255b0c",
   "metadata": {},
   "outputs": [
    {
     "data": {
      "text/plain": [
       "-0.3090169943749451"
      ]
     },
     "execution_count": 3,
     "metadata": {},
     "output_type": "execute_result"
    }
   ],
   "source": [
    "np.sin(5.1*np.pi)"
   ]
  },
  {
   "cell_type": "code",
   "execution_count": 17,
   "id": "670cda80",
   "metadata": {},
   "outputs": [
    {
     "ename": "OverflowError",
     "evalue": "(34, 'Result too large')",
     "output_type": "error",
     "traceback": [
      "\u001b[1;31m---------------------------------------------------------------------------\u001b[0m",
      "\u001b[1;31mOverflowError\u001b[0m                             Traceback (most recent call last)",
      "Cell \u001b[1;32mIn [17], line 1\u001b[0m\n\u001b[1;32m----> 1\u001b[0m \u001b[43mfsin\u001b[49m\u001b[43m(\u001b[49m\u001b[38;5;241;43m5.1\u001b[39;49m\u001b[38;5;241;43m*\u001b[39;49m\u001b[43mnp\u001b[49m\u001b[38;5;241;43m.\u001b[39;49m\u001b[43mpi\u001b[49m\u001b[43m,\u001b[49m\u001b[43m \u001b[49m\u001b[38;5;241;43m10\u001b[39;49m\u001b[43m,\u001b[49m\u001b[43m \u001b[49m\u001b[38;5;241;43m200\u001b[39;49m\u001b[43m)\u001b[49m\n",
      "Cell \u001b[1;32mIn [1], line 12\u001b[0m, in \u001b[0;36mfsin\u001b[1;34m(x, n, iterasi)\u001b[0m\n\u001b[0;32m     10\u001b[0m hasil \u001b[38;5;241m=\u001b[39m \u001b[38;5;241m0\u001b[39m\n\u001b[0;32m     11\u001b[0m \u001b[38;5;28;01mfor\u001b[39;00m m \u001b[38;5;129;01min\u001b[39;00m \u001b[38;5;28mrange\u001b[39m(\u001b[38;5;241m0\u001b[39m, iterasi):\n\u001b[1;32m---> 12\u001b[0m     hasil \u001b[38;5;241m+\u001b[39m\u001b[38;5;241m=\u001b[39m ((\u001b[38;5;241m-\u001b[39m\u001b[38;5;241m1\u001b[39m)\u001b[38;5;241m*\u001b[39m\u001b[38;5;241m*\u001b[39m(m\u001b[38;5;241m+\u001b[39mn)\u001b[38;5;241m/\u001b[39mfactorial(\u001b[38;5;241m2\u001b[39m\u001b[38;5;241m*\u001b[39mm\u001b[38;5;241m+\u001b[39m\u001b[38;5;241m1\u001b[39m))\u001b[38;5;241m*\u001b[39m\u001b[43m(\u001b[49m\u001b[43mx\u001b[49m\u001b[38;5;241;43m-\u001b[39;49m\u001b[43mn\u001b[49m\u001b[38;5;241;43m*\u001b[39;49m\u001b[43mpi\u001b[49m\u001b[43m)\u001b[49m\u001b[38;5;241;43m*\u001b[39;49m\u001b[38;5;241;43m*\u001b[39;49m\u001b[43m(\u001b[49m\u001b[38;5;241;43m2\u001b[39;49m\u001b[38;5;241;43m*\u001b[39;49m\u001b[43mm\u001b[49m\u001b[38;5;241;43m+\u001b[39;49m\u001b[38;5;241;43m1\u001b[39;49m\u001b[43m)\u001b[49m\n\u001b[0;32m     13\u001b[0m \u001b[38;5;28;01mreturn\u001b[39;00m hasil\n",
      "\u001b[1;31mOverflowError\u001b[0m: (34, 'Result too large')"
     ]
    }
   ],
   "source": [
    "fsin(5.1*np.pi, 10, 200)"
   ]
  },
  {
   "cell_type": "markdown",
   "id": "716ee2bd",
   "metadata": {},
   "source": [
    "### Pake kaitan rekurensi\n",
    "$$f(x) = (-1)^n(x-n\\pi) \\sum_{m=0}^{\\infty} a_m$$\n",
    "\n",
    "$$a_m = \\frac{-(x-n\\pi)^2}{(2m+1)2m}a_{m-1}$$\n",
    "\n",
    "$$a_0 = 1$$"
   ]
  },
  {
   "cell_type": "code",
   "execution_count": 15,
   "id": "778e32ad",
   "metadata": {},
   "outputs": [],
   "source": [
    "def sinx(x,n,iterasi):\n",
    "    pi = np.pi\n",
    "    am = 1.0\n",
    "    hasil = am\n",
    "    for m in range(1, iterasi+1):\n",
    "        am *= -(x-n*pi)**2/((2*m+1)*2*m)\n",
    "        hasil += am\n",
    "    hasil *= (-1)**n*(x-n*pi)\n",
    "    return hasil"
   ]
  },
  {
   "cell_type": "code",
   "execution_count": 18,
   "id": "3336c08e",
   "metadata": {},
   "outputs": [
    {
     "data": {
      "text/plain": [
       "-0.3090169943821896"
      ]
     },
     "execution_count": 18,
     "metadata": {},
     "output_type": "execute_result"
    }
   ],
   "source": [
    "sinx(5.1*np.pi,10,200)"
   ]
  },
  {
   "cell_type": "markdown",
   "id": "44d0c76c",
   "metadata": {},
   "source": [
    "3. Dua buah massa m1 dan m2 mempunyai jarak sebesar r mengalami interaksi\n",
    "   gravitasi.\n",
    "   \n",
    "    a. Berikan nilai masukan untuk besar m1, m2 dan r.\n",
    "    \n",
    "    b. Jika massa ketiga m3 diletakan di antara m1 dan m2, tentukan persamaan\n",
    "    gaya yang bekerja pada m3 dan berikan nilai masukan untuk besar m3\n",
    "    \n",
    "    c. Berdasarkan persamaan gaya tersebut, lakukan modifikasi pada sourcecode metode bisection untuk menentukan letak atau  posisi\n",
    "    \n",
    "    kesetimbangan massa m3, yaitu saat gaya total yang bekerja pada m3 oleh\n",
    "    m1 dan m2 akan nol."
   ]
  },
  {
   "cell_type": "code",
   "execution_count": 24,
   "id": "5d538f7b",
   "metadata": {},
   "outputs": [
    {
     "name": "stdout",
     "output_type": "stream",
     "text": [
      "Masukkan nilai m1 = 1000\n",
      "Masukkan nilai m2 = 2000\n",
      "Masukkan nilai r = 200\n"
     ]
    }
   ],
   "source": [
    "#Jawaban 3a\n",
    "m1 = float(input(\"Masukkan nilai m1 = \")) #Kg\n",
    "m2 = float(input(\"Masukkan nilai m2 = \")) #Kg\n",
    "r = float(input(\"Masukkan nilai r = \")) #meter"
   ]
  },
  {
   "cell_type": "markdown",
   "id": "a38ad1fc",
   "metadata": {},
   "source": [
    "### Persamaan gayanya\n",
    "\n",
    "$$\\frac{m_2}{(r-x)^2} - \\frac{m_1}{x^2} = 0$$"
   ]
  },
  {
   "cell_type": "code",
   "execution_count": 25,
   "id": "9bfac019",
   "metadata": {},
   "outputs": [
    {
     "name": "stdout",
     "output_type": "stream",
     "text": [
      "Masukkan nilai m3 = 90\n"
     ]
    }
   ],
   "source": [
    "# Jawaban b\n",
    "m3 = float(input(\"Masukkan nilai m3 = \")) #Kg"
   ]
  },
  {
   "cell_type": "code",
   "execution_count": 26,
   "id": "c1d8b371",
   "metadata": {},
   "outputs": [],
   "source": [
    "def fx(x,m2,m1):\n",
    "    fungx = m2/(r-x)**2 - m1/x**2\n",
    "    return fungx"
   ]
  },
  {
   "cell_type": "code",
   "execution_count": 31,
   "id": "61e72fcb",
   "metadata": {},
   "outputs": [],
   "source": [
    "def bisection(tol,a,b,N, m2, m1):\n",
    "    xl = a #Tebakan untuk nilai kiri\n",
    "    xr = b #Tebakan untuk nilai kanan\n",
    "    for i in range(1,N+1):\n",
    "        xm = (xl+xr)/2\n",
    "        if fx(xl,m2,m1)*fx(xm,m2,m1) < tol:\n",
    "            xl = xl\n",
    "            xr = xm\n",
    "        elif fx(xr, m2, m1)*fx(xm, m2, m1) < tol:\n",
    "            xr = xr\n",
    "            xl = xm\n",
    "        elif fx(xm, m2,m1) == 0:\n",
    "            print(\"Diperoleh metode eksak\")\n",
    "            return xm\n",
    "        else:\n",
    "            print(\"Coba Metode Lain\")\n",
    "            return None\n",
    "    return xm"
   ]
  },
  {
   "cell_type": "code",
   "execution_count": 39,
   "id": "5b79fd40",
   "metadata": {},
   "outputs": [
    {
     "name": "stdout",
     "output_type": "stream",
     "text": [
      "Nilai x =  81.25\n"
     ]
    }
   ],
   "source": [
    "x = bisection(0.0001,25,100,1000,m2,m1)\n",
    "print(\"Nilai x = \", x)"
   ]
  },
  {
   "cell_type": "markdown",
   "id": "0bd04543",
   "metadata": {},
   "source": [
    "4. Polinomial Hermite\n",
    "\n",
    "$$H_{n+1}(x)=2xH_n(x) - 2nH_{n-1}(x)$$\n",
    "\n",
    "$$H'_n(x) = 2nH_{(n-1)}(x)$$"
   ]
  },
  {
   "cell_type": "code",
   "execution_count": 2,
   "id": "f5ee42b3",
   "metadata": {},
   "outputs": [],
   "source": [
    "def hermiten(n,x): #f(x)\n",
    "    yrekur0 = 1.0\n",
    "    yrekur1 = 2.0*x\n",
    "    for i in range (1,n):\n",
    "        yrekur = 2.0*x*yrekur1-2.0*i*yrekur0\n",
    "        yrekur0 = yrekur1\n",
    "        yrekur1 = yrekur\n",
    "    return yrekur"
   ]
  },
  {
   "cell_type": "code",
   "execution_count": 3,
   "id": "ddd460f4",
   "metadata": {},
   "outputs": [],
   "source": [
    "def dhermiten(n,x): #f'(x)\n",
    "    n1 = n-1\n",
    "    yrekur = 2*n*hermiten(n1,x)\n",
    "    return yrekur"
   ]
  },
  {
   "cell_type": "code",
   "execution_count": 16,
   "id": "d3b1402f",
   "metadata": {},
   "outputs": [],
   "source": [
    "def NewtonRapshon(n, x0, tol, imak):\n",
    "    i = 0\n",
    "    while (i < imak):\n",
    "        if dhermiten(n,x0) == 0:\n",
    "            print(\"Tidak dapat dibagi dengan nol\")\n",
    "            break\n",
    "        i = i+1\n",
    "        x1 = x0 - hermiten(n,x0)/dhermiten(n,x0)\n",
    "        ralat = np.abs(x1 - x0)\n",
    "        print(f\"Hasil iterasi ke-{i}, x{i} = {x1}, f(x{i}) = {hermiten(n,x1)}\")\n",
    "        x0 = x1\n",
    "        if (i >= imak):\n",
    "            print(\"Nilai akar = \", x1)\n",
    "        elif (ralat <= tol):\n",
    "            print(\"Nilai akar = \", x1)\n",
    "            break"
   ]
  },
  {
   "cell_type": "code",
   "execution_count": 17,
   "id": "8b586b0a",
   "metadata": {},
   "outputs": [
    {
     "name": "stdout",
     "output_type": "stream",
     "text": [
      "Hasil iterasi ke-1, x1 = 2.7816801619433176, f(x1) = 598.5513078171274\n",
      "Hasil iterasi ke-2, x2 = 2.2426828078914602, f(x2) = 175.3321751685754\n",
      "Hasil iterasi ke-3, x3 = 1.8965959712788432, f(x3) = 46.36366267020047\n",
      "Hasil iterasi ke-4, x4 = 1.714454553804131, f(x4) = 9.147858206549301\n",
      "Hasil iterasi ke-5, x5 = 1.656532263227412, f(x5) = 0.764522687080543\n",
      "Hasil iterasi ke-6, x6 = 1.650735901032485, f(x6) = 0.007217466957200713\n",
      "Hasil iterasi ke-7, x7 = 1.6506801290205368, f(x7) = 6.643669649974981e-07\n",
      "Hasil iterasi ke-8, x8 = 1.6506801238857847, f(x8) = 1.4210854715202004e-14\n",
      "Nilai akar =  1.6506801238857847\n"
     ]
    }
   ],
   "source": [
    "NewtonRapshon(n=4,x0 = 1.3,tol = 0.00001,imak = 20)"
   ]
  },
  {
   "cell_type": "code",
   "execution_count": null,
   "id": "42f08c8e",
   "metadata": {},
   "outputs": [],
   "source": []
  }
 ],
 "metadata": {
  "kernelspec": {
   "display_name": "Python [conda env:zul_machinelearning]",
   "language": "python",
   "name": "conda-env-zul_machinelearning-py"
  },
  "language_info": {
   "codemirror_mode": {
    "name": "ipython",
    "version": 3
   },
   "file_extension": ".py",
   "mimetype": "text/x-python",
   "name": "python",
   "nbconvert_exporter": "python",
   "pygments_lexer": "ipython3",
   "version": "3.9.10"
  },
  "varInspector": {
   "cols": {
    "lenName": 16,
    "lenType": 16,
    "lenVar": 40
   },
   "kernels_config": {
    "python": {
     "delete_cmd_postfix": "",
     "delete_cmd_prefix": "del ",
     "library": "var_list.py",
     "varRefreshCmd": "print(var_dic_list())"
    },
    "r": {
     "delete_cmd_postfix": ") ",
     "delete_cmd_prefix": "rm(",
     "library": "var_list.r",
     "varRefreshCmd": "cat(var_dic_list()) "
    }
   },
   "types_to_exclude": [
    "module",
    "function",
    "builtin_function_or_method",
    "instance",
    "_Feature"
   ],
   "window_display": false
  }
 },
 "nbformat": 4,
 "nbformat_minor": 5
}
